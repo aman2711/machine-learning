{
 "cells": [
  {
   "cell_type": "code",
   "execution_count": null,
   "metadata": {},
   "outputs": [],
   "source": [
    "import numpy as np"
   ]
  },
  {
   "cell_type": "code",
   "execution_count": null,
   "metadata": {},
   "outputs": [],
   "source": [
    "def distance(v1, v2):\n",
    "    #Euclidean distance\n",
    "    return np.sqrt(sum((e1-e2)**2 for e1, e2 in zip(v1, v2)))\n",
    "\n",
    "def kNN_reg(train, testRow, k):\n",
    "    distList = list()\n",
    "    neighbours = list()\n",
    "    \n",
    "    for index, trainRow in train.iterrows():\n",
    "        dist = distance(trainRow[:-1], testRow[:-1])\n",
    "        distList.append((trainRow, dist))\n",
    "    \n",
    "    distList.sort(key = lambda tup:tup[1])\n",
    "    \n",
    "    for i in range(k):\n",
    "        neighbours.append(distList[i][0])\n",
    "        \n",
    "    return predict(neighbours)\n",
    "\n",
    "def predict(neighbours):\n",
    "    #simple averaging\n",
    "    prediction = 0.0\n",
    "    \n",
    "    for neighbour in neighbours:\n",
    "        prediction += neighbour[-1]\n",
    "        \n",
    "    prediction /= len(neighbours)\n",
    "    return prediction\n",
    "\n",
    "#to calculate RMSE in price prediction\n",
    "def testModel(train, test, k):\n",
    "    se = 0.0\n",
    "    \n",
    "    for index, testRow in test.iterrows():\n",
    "        prediction = kNN_reg(train, testRow, k)\n",
    "        target = testRow[-1]\n",
    "        \n",
    "        se += (prediction - target)**2\n",
    "    \n",
    "    rmse = np.sqrt(se / len(test))\n",
    "    return rmse"
   ]
  }
 ],
 "metadata": {
  "language_info": {
   "name": "python"
  },
  "orig_nbformat": 4
 },
 "nbformat": 4,
 "nbformat_minor": 2
}
