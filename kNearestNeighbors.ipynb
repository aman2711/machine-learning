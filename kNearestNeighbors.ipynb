{
 "cells": [
  {
   "cell_type": "code",
   "execution_count": 3,
   "metadata": {},
   "outputs": [],
   "source": [
    "import numpy as np"
   ]
  },
  {
   "cell_type": "code",
   "execution_count": 7,
   "metadata": {},
   "outputs": [
    {
     "name": "stdout",
     "output_type": "stream",
     "text": [
      "5.196152422706632\n"
     ]
    }
   ],
   "source": [
    "def distance(v1, v2):\n",
    "    #Euclidean distance\n",
    "    return np.sqrt(np.dot(v1-v2,v1-v2))\n",
    "\n",
    "def kNN_reg(train, testRow, k):\n",
    "    distList = list()\n",
    "    neighbours = list()\n",
    "    \n",
    "    for index, trainRow in train.iterrows():\n",
    "        dist = distance(trainRow[:-1], testRow[:-1])\n",
    "        distList.append((trainRow, dist))\n",
    "    \n",
    "    distList.sort(key = lambda tup:tup[1])\n",
    "    \n",
    "    for i in range(k):\n",
    "        neighbours.append(distList[i][0])\n",
    "        \n",
    "    return predict(neighbours)\n",
    "\n",
    "def predict(neighbours):\n",
    "    #simple averaging\n",
    "    prediction = 0.0\n",
    "    \n",
    "    for neighbour in neighbours:\n",
    "        prediction += neighbour[-1]\n",
    "        \n",
    "    prediction /= len(neighbours)\n",
    "    return prediction\n",
    "\n",
    "#to calculate RMSE in price prediction\n",
    "def testModel(train, test, k):\n",
    "    se = 0.0\n",
    "    \n",
    "    for index, testRow in test.iterrows():\n",
    "        prediction = kNN_reg(train, testRow, k)\n",
    "        target = testRow[-1]\n",
    "        \n",
    "        se += (prediction - target)**2\n",
    "    \n",
    "    rmse = np.sqrt(se / len(test))\n",
    "    return rmse"
   ]
  },
  {
   "cell_type": "code",
   "execution_count": null,
   "metadata": {},
   "outputs": [],
   "source": []
  }
 ],
 "metadata": {
  "interpreter": {
   "hash": "31f2aee4e71d21fbe5cf8b01ff0e069b9275f58929596ceb00d14d90e3e16cd6"
  },
  "kernelspec": {
   "display_name": "Python 3.8.10 64-bit",
   "name": "python3"
  },
  "language_info": {
   "codemirror_mode": {
    "name": "ipython",
    "version": 3
   },
   "file_extension": ".py",
   "mimetype": "text/x-python",
   "name": "python",
   "nbconvert_exporter": "python",
   "pygments_lexer": "ipython3",
   "version": "3.8.10"
  },
  "orig_nbformat": 4
 },
 "nbformat": 4,
 "nbformat_minor": 2
}
