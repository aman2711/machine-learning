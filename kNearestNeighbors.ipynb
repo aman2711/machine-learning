{
 "cells": [
  {
   "cell_type": "code",
   "execution_count": 45,
   "metadata": {},
   "outputs": [],
   "source": [
    "import numpy as np"
   ]
  },
  {
   "cell_type": "code",
   "execution_count": 46,
   "metadata": {},
   "outputs": [],
   "source": [
    "class KNN:\n",
    "    X = None # features of training examples, numpy array of dimension m x n where m is number of examples and n is number of features\n",
    "    y = None # target values or lables of training examples, numpy array dimension m x 1\n",
    "    K = 5    # number of neighbours to consider for predictions\n",
    "\n",
    "    def __init__(self, X_train, y_train, k = 5):\n",
    "        self.X = X_train\n",
    "        self.y = y_train\n",
    "        self.K = k\n",
    "\n",
    "    def distance(self, v1, v2):\n",
    "        #Euclidean distance\n",
    "        v1 = np.array(v1)\n",
    "        v2 = np.array(v2)\n",
    "        return np.sqrt(np.dot(v1-v2,v1-v2))\n",
    "    \n",
    "    def makeNeighbours(self, data):\n",
    "        # function to get k nearest neighbours of given data point\n",
    "        # data : features of data point for which neighbours are to be found, numpy array of length n where n is number of features\n",
    "        # neighbours : neighbours of data point, numpy array of dimension k x 2 consisting of k neighbours [label or value, distance]\n",
    "\n",
    "        neighbours = [ [y[i] , self.distance(X[i],data)] for i in range(len(X)) ]\n",
    "\n",
    "        neighbours.sort(key = lambda x: x[1])\n",
    "\n",
    "        neighbours = neighbours[:self.K]\n",
    "\n",
    "        return np.array(neighbours)\n",
    "    \n",
    "    def regress(self, data):\n",
    "        # function for regression using KNN on given data\n",
    "        # data : features of data for making predictions, numpy array of dimension m x n where m is number of data points and n is number of features\n",
    "        # predictions : value predicted by taking average of targets of k neighbours, numpy array of dimensions m x 1\n",
    "\n",
    "        predictions = []\n",
    "\n",
    "        for d in data:\n",
    "            neighbours = self.makeNeighbours(d)\n",
    "            \n",
    "            pred = 0.0\n",
    "\n",
    "            for n in neighbours:\n",
    "                pred += n[0]\n",
    "            \n",
    "            pred /= len(neighbours)\n",
    "\n",
    "            predictions.append(pred)\n",
    "\n",
    "        return np.array(predictions)\n",
    "\n",
    "    def classify(self, data):\n",
    "        # function for classification using KNN on given data\n",
    "        # data : features of data for making predictions, numpy array of dimension m x n where m is number of data points and n is number of features\n",
    "        # predictions : value predicted by taking majority voting of labels of k neighbours, numpy array of dimensions m x 1\n",
    "        \n",
    "        predictions = []\n",
    "\n",
    "        for d in data:\n",
    "            neighbours = self.makeNeighbours(d)\n",
    "            counts = {}\n",
    "\n",
    "            for n in neighbours:\n",
    "                if n[0] in counts:\n",
    "                    counts[n[0]] += 1\n",
    "                else:\n",
    "                    counts[n[0]] = 1\n",
    "            \n",
    "            predictions.append(max(counts, key = counts.get))\n",
    "        \n",
    "        return np.array(predictions)\n",
    "\n",
    "    def test(self, X_test, y_test, target_type = \"cont\"):\n",
    "        # function to calculate root mean squared error for testing data\n",
    "        # X_test : feature value for testing data, numpy array of dimension m x n where m is number of examples and n is number of features\n",
    "        # y_test : target values for testing data, numpy array of dimension m x 1 where m is number of examples\n",
    "        # target_type : wether target is discrete or continuous, cont for continuous and disc for discrete        \n",
    "\n",
    "        pred = None\n",
    "        if target_type == \"cont\":\n",
    "            pred = self.regress(X_test)\n",
    "        else:\n",
    "            pred = self.classify(X_test)\n",
    "\n",
    "        rmse = (np.dot(pred - y_test, pred - y_test)/len(pred))**0.5\n",
    "        return rmse\n"
   ]
  },
  {
   "cell_type": "code",
   "execution_count": 47,
   "metadata": {},
   "outputs": [
    {
     "name": "stdout",
     "output_type": "stream",
     "text": [
      "0.5\n",
      "0.0\n"
     ]
    }
   ],
   "source": [
    "X = np.array([[1,2,3,1,2], [4,5,2,6,4]])\n",
    "y = np.array([0,1])\n",
    "\n",
    "model = KNN(X,y,k= 3)\n",
    "\n",
    "X_test = np.array([[1,1,1,1,1], [5,5,5,5,5]])\n",
    "y_test = np.array([0,1])\n",
    "\n",
    "print(model.test(X_test,y_test,\"cont\"))\n",
    "print(model.test(X_test,y_test,\"disc\"))\n"
   ]
  },
  {
   "cell_type": "code",
   "execution_count": null,
   "metadata": {},
   "outputs": [],
   "source": []
  }
 ],
 "metadata": {
  "interpreter": {
   "hash": "31f2aee4e71d21fbe5cf8b01ff0e069b9275f58929596ceb00d14d90e3e16cd6"
  },
  "kernelspec": {
   "display_name": "Python 3.8.10 64-bit",
   "name": "python3"
  },
  "language_info": {
   "codemirror_mode": {
    "name": "ipython",
    "version": 3
   },
   "file_extension": ".py",
   "mimetype": "text/x-python",
   "name": "python",
   "nbconvert_exporter": "python",
   "pygments_lexer": "ipython3",
   "version": "3.8.10"
  },
  "orig_nbformat": 4
 },
 "nbformat": 4,
 "nbformat_minor": 2
}
