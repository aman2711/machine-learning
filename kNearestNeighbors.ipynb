{
 "cells": [
  {
   "cell_type": "code",
   "execution_count": 31,
   "metadata": {},
   "outputs": [],
   "source": [
    "import numpy as np"
   ]
  },
  {
   "cell_type": "code",
   "execution_count": 32,
   "metadata": {},
   "outputs": [],
   "source": [
    "class KNN:\n",
    "    X = None\n",
    "    y = None\n",
    "    K = 5\n",
    "\n",
    "    def __init__(self, X_train, y_train, k = 5):\n",
    "        self.X = X_train\n",
    "        self.y = y_train\n",
    "        self.K = k\n",
    "\n",
    "    def distance(self, v1, v2):\n",
    "        #Euclidean distance\n",
    "        v1 = np.array(v1)\n",
    "        v2 = np.array(v2)\n",
    "        return np.sqrt(np.dot(v1-v2,v1-v2))\n",
    "    \n",
    "    def makeNeighbours(self, data):\n",
    "        neighbours = [ [y[i] , self.distance(X[i],data)] for i in range(len(X)) ]\n",
    "\n",
    "        neighbours.sort(key = lambda x: x[1])\n",
    "\n",
    "        neighbours = neighbours[:self.K]\n",
    "\n",
    "        return neighbours\n",
    "    \n",
    "    def regress(self, data):\n",
    "        neighbours = self.makeNeighbours(data)\n",
    "        \n",
    "        pred = 0.0\n",
    "\n",
    "        for n in neighbours:\n",
    "            pred += n[0]\n",
    "        \n",
    "        pred /= len(neighbours)\n",
    "\n",
    "        return pred\n",
    "\n",
    "    def classify(self, data):\n",
    "        neighbours = self.makeNeighbours(data)\n",
    "\n",
    "        dist = {}\n",
    "        counts = {}\n",
    "\n",
    "        for n in neighbours:\n",
    "            if n[0] in dist:\n",
    "                dist[n[0]] += n[1]\n",
    "                counts[n[0]] += 1\n",
    "            else:\n",
    "                dist[n[0]] = n[1]\n",
    "                counts[n[0]] = 1\n",
    "        \n",
    "        for d in dist:\n",
    "            dist[d] /= counts[d]\n",
    "        \n",
    "        return min(dist, key = dist.get)\n",
    "\n",
    "    def test(self, X_test, y_test):\n",
    "        se = 0.0\n",
    "\n",
    "        for i in range(len(X_test)):\n",
    "            pred = self.predict(X_test[i])\n",
    "            se += (pred - y_test[i])**2\n",
    "        \n",
    "        return (se/len(y_test))**0.5"
   ]
  },
  {
   "cell_type": "code",
   "execution_count": 33,
   "metadata": {},
   "outputs": [
    {
     "name": "stdout",
     "output_type": "stream",
     "text": [
      "0\n",
      "0.5\n"
     ]
    }
   ],
   "source": [
    "X = [[1,2,3,1,2], [4,5,2,6,4]]\n",
    "y = [0,1]\n",
    "\n",
    "model = KNN(X,y,k= 3)\n",
    "\n",
    "data = [1,1,0,4,2]\n",
    "\n",
    "print(model.classify(data))\n",
    "print(model.regress(data))\n"
   ]
  },
  {
   "cell_type": "code",
   "execution_count": null,
   "metadata": {},
   "outputs": [],
   "source": []
  }
 ],
 "metadata": {
  "interpreter": {
   "hash": "31f2aee4e71d21fbe5cf8b01ff0e069b9275f58929596ceb00d14d90e3e16cd6"
  },
  "kernelspec": {
   "display_name": "Python 3.8.10 64-bit",
   "name": "python3"
  },
  "language_info": {
   "codemirror_mode": {
    "name": "ipython",
    "version": 3
   },
   "file_extension": ".py",
   "mimetype": "text/x-python",
   "name": "python",
   "nbconvert_exporter": "python",
   "pygments_lexer": "ipython3",
   "version": "3.8.10"
  },
  "orig_nbformat": 4
 },
 "nbformat": 4,
 "nbformat_minor": 2
}
